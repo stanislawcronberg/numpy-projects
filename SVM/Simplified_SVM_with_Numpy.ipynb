{
  "nbformat": 4,
  "nbformat_minor": 0,
  "metadata": {
    "colab": {
      "name": "Simplified SVM with Numpy.ipynb",
      "provenance": [],
      "collapsed_sections": [],
      "authorship_tag": "ABX9TyMWySwS5kUR8X2/Q2/TB+xP",
      "include_colab_link": true
    },
    "kernelspec": {
      "name": "python3",
      "display_name": "Python 3"
    },
    "language_info": {
      "name": "python"
    }
  },
  "cells": [
    {
      "cell_type": "markdown",
      "metadata": {
        "id": "view-in-github",
        "colab_type": "text"
      },
      "source": [
        "<a href=\"https://colab.research.google.com/github/stanislawcronberg/Numpy-Practice-Projects/blob/main/SVM/Simplified_SVM_with_Numpy.ipynb\" target=\"_parent\"><img src=\"https://colab.research.google.com/assets/colab-badge.svg\" alt=\"Open In Colab\"/></a>"
      ]
    },
    {
      "cell_type": "markdown",
      "metadata": {
        "id": "l9gbkwYx7fjk"
      },
      "source": [
        "## Implementing a simplified SVM with Numpy from scratch\n",
        "\n",
        "1. Problem statement\n",
        "2. Point selection algorithm\n",
        "3. 2D Case\n",
        "    - Example 2D data\n",
        "    - Criteria for support vectors in 2D\n",
        "    - 2D Implementation\n",
        "4. 3D Case\n",
        "    - Example 3D data\n",
        "    - Criteria for support vectors in 3D \n",
        "    - 3D Implementation"
      ]
    },
    {
      "cell_type": "markdown",
      "metadata": {
        "id": "9Rtm5HKBWgbm"
      },
      "source": [
        "### 1. Problem Statement\n",
        "\n",
        "We first build a hard margin linear SVM classifier. The conditions are:\n",
        "- Minimize $\\frac{1}{2}w^Tw$\n",
        "- Subject to $(w^Tx^{(i)} + b) = 1$ for $i = 1, ..., \\text{n_dimensions + 1}$"
      ]
    },
    {
      "cell_type": "markdown",
      "metadata": {
        "id": "nw7rTSJFBK-X"
      },
      "source": [
        "### Sample Dataset for 2D Case"
      ]
    },
    {
      "cell_type": "markdown",
      "metadata": {
        "id": "CT3-ITaKBtg_"
      },
      "source": [
        "$X$ contains our matrix of points, whereas $y$ contains a vector of their corresponding label.\n",
        "- Where $y \\in \\{0, 1\\}$ and $x \\in R^2$"
      ]
    },
    {
      "cell_type": "code",
      "metadata": {
        "id": "7GWjCSuZgnVD"
      },
      "source": [
        "import numpy as np\n",
        "import matplotlib.pyplot as plt\n",
        "% matplotlib inline"
      ],
      "execution_count": null,
      "outputs": []
    },
    {
      "cell_type": "code",
      "metadata": {
        "colab": {
          "base_uri": "https://localhost:8080/",
          "height": 295
        },
        "id": "cJ7iX1Wn_B0k",
        "outputId": "1eb0dbbc-0553-48a3-8707-e104b2764d7a"
      },
      "source": [
        "from sklearn.datasets import make_blobs\n",
        "\n",
        "# Our sample cluster data\n",
        "X, y = make_blobs(n_features=2, centers=2, random_state=42)\n",
        "\n",
        "plt.scatter(X[:, 0], X[:, 1],marker='o', c=y,\n",
        "            s=25, edgecolor='k')\n",
        "plt.title('Two Clusters')\n",
        "plt.xlabel('Feature 1')\n",
        "plt.ylabel('Feature 2')\n",
        "plt.show()"
      ],
      "execution_count": null,
      "outputs": [
        {
          "output_type": "display_data",
          "data": {
            "image/png": "[encoded data removed]",
            "text/plain": [
              "<Figure size 432x288 with 1 Axes>"
            ]
          },
          "metadata": {
            "needs_background": "light"
          }
        }
      ]
    },
    {
      "cell_type": "markdown",
      "metadata": {
        "id": "ZijuEh_DJTuD"
      },
      "source": [
        "### Point Selection Algorithm\n",
        "- We make use of the `combinations()` function from the `itertools` package in order to generate all possible groups of points we want to consider\n",
        "- Works for both the 2D and the 3D case of the algorithm we want to implement "
      ]
    },
    {
      "cell_type": "code",
      "metadata": {
        "id": "aP-8gYDMJ621"
      },
      "source": [
        "from itertools import combinations\n",
        "\n",
        "def get_combinations(X):\n",
        "    \"\"\"\n",
        "    X -> (n_inputs, n_dimensions) numpy.ndarray\n",
        "    Returns a numpy.darray of possible combinations of indices\n",
        "    \"\"\"\n",
        "\n",
        "    # How many points we have to choose from\n",
        "    n_points = X.shape[0]\n",
        "\n",
        "    # How large we want our groups of candidate support vectors to be\n",
        "    group_size = X.shape[1] + 1\n",
        "\n",
        "    return np.array(list(combinations(range(n_points), group_size)))"
      ],
      "execution_count": null,
      "outputs": []
    },
    {
      "cell_type": "markdown",
      "metadata": {
        "id": "BiZfcPvxXltL"
      },
      "source": [
        "For any group of three support vectors that we select we require that:\n",
        "1. They do not all belong to the same class\n",
        "2. They do not lie on the same line\n",
        "    - We do this by ensuring that the triangle formed by the three points has a positive area\n"
      ]
    },
    {
      "cell_type": "code",
      "metadata": {
        "id": "5-rWkOsWD8ZG"
      },
      "source": [
        "def get_vector_from_points(a, b):\n",
        "    \"\"\"\n",
        "    Returns the vector going from point a -> b\n",
        "    \"\"\"\n",
        "    return b-a"
      ],
      "execution_count": null,
      "outputs": []
    },
    {
      "cell_type": "code",
      "metadata": {
        "id": "dR__p7fWWLP0"
      },
      "source": [
        "def are_supports_legal_2d(index_list, X, y) -> bool:\n",
        "    \"\"\"\n",
        "    Checks if the points are not all from the same class\n",
        "    Ensure that the support vectors are not collinear\n",
        "\n",
        "    (All inputs are of type numpy.ndarray)\n",
        "    index_list -> list of our indices to our points (1, 3)\n",
        "    X          -> coordinates of our points (num_points, 2)\n",
        "    y          -> classes of our points (num_points, 1)\n",
        "    \"\"\"\n",
        "    # Get our list of classes\n",
        "    classes = y[index_list]\n",
        "\n",
        "    # Check if elements are from the same class\n",
        "    if np.unique(classes).size == 1:\n",
        "        return False\n",
        "\n",
        "    # Get points\n",
        "    p1 = X[index_list[0], :]\n",
        "    p2 = X[index_list[1], :]\n",
        "    p3 = X[index_list[2], :]\n",
        "\n",
        "    # Create two vectors from our points\n",
        "    v1 = get_vector_from_points(p1, p2)\n",
        "    v2 = get_vector_from_points(p2, p3)\n",
        "\n",
        "    # Test if the two vectors are linearly independent\n",
        "    if np.linalg.det(np.vstack([v1, v2])) == 0:\n",
        "        return False\n",
        "\n",
        "    return True"
      ],
      "execution_count": null,
      "outputs": []
    },
    {
      "cell_type": "code",
      "metadata": {
        "colab": {
          "base_uri": "https://localhost:8080/"
        },
        "id": "iWWhstUtbcR-",
        "outputId": "0e9445ea-e217-4f0f-e548-ef242c2bd5fc"
      },
      "source": [
        "x1 = np.array([1, 1])\n",
        "x2 = np.array([2, 2])\n",
        "x3 = np.array([3, 3])\n",
        "triangle_area(x1, x2, x3)"
      ],
      "execution_count": null,
      "outputs": [
        {
          "output_type": "execute_result",
          "data": {
            "text/plain": [
              "0.0"
            ]
          },
          "metadata": {},
          "execution_count": 26
        }
      ]
    },
    {
      "cell_type": "code",
      "metadata": {
        "colab": {
          "base_uri": "https://localhost:8080/"
        },
        "id": "aAKAubaTEkBe",
        "outputId": "7a0a3824-368c-4bef-b1fb-29ab0d628aae"
      },
      "source": [
        "b = np.linalg.det(np.vstack([x1, x2]))\n",
        "b"
      ],
      "execution_count": null,
      "outputs": [
        {
          "output_type": "execute_result",
          "data": {
            "text/plain": [
              "0.0"
            ]
          },
          "metadata": {},
          "execution_count": 27
        }
      ]
    },
    {
      "cell_type": "code",
      "metadata": {
        "id": "oLtmTUDsHppx"
      },
      "source": [
        "def find_best_svm_2D(X, y) -> tuple:\n"
      ],
      "execution_count": null,
      "outputs": []
    },
    {
      "cell_type": "code",
      "metadata": {
        "id": "DIT_bowfIhvi"
      },
      "source": [
        "combs2d = np.array(list(combinations(range(10), 3)))\n",
        "combs2d"
      ],
      "execution_count": null,
      "outputs": []
    },
    {
      "cell_type": "code",
      "metadata": {
        "colab": {
          "base_uri": "https://localhost:8080/"
        },
        "id": "SaWsnjcjIzRR",
        "outputId": "8dccddee-5213-4b38-b60f-daa91e196f97"
      },
      "source": [
        ""
      ],
      "execution_count": null,
      "outputs": [
        {
          "output_type": "execute_result",
          "data": {
            "text/plain": [
              "numpy.ndarray"
            ]
          },
          "metadata": {},
          "execution_count": 35
        }
      ]
    },
    {
      "cell_type": "code",
      "metadata": {
        "id": "i962NzB1Ky0z"
      },
      "source": [
        "stacked = np.vstack([x1, x2, x3])\n",
        "stacked = [1, 2, 3]"
      ],
      "execution_count": null,
      "outputs": []
    },
    {
      "cell_type": "code",
      "metadata": {
        "colab": {
          "base_uri": "https://localhost:8080/"
        },
        "id": "fCCZf6_6Kv4V",
        "outputId": "18c6d57d-1b1a-4b05-e446-d7406969773e"
      },
      "source": [
        ""
      ],
      "execution_count": null,
      "outputs": [
        {
          "output_type": "execute_result",
          "data": {
            "text/plain": [
              "[array([5.72293008, 3.02697174]),\n",
              " array([-3.05358035,  9.12520872]),\n",
              " array([5.461939  , 3.86996267])]"
            ]
          },
          "metadata": {},
          "execution_count": 40
        }
      ]
    }
  ]
}