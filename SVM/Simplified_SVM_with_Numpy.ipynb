{
  "nbformat": 4,
  "nbformat_minor": 0,
  "metadata": {
    "colab": {
      "name": "Simplified SVM with Numpy.ipynb",
      "provenance": [],
      "collapsed_sections": [],
      "authorship_tag": "ABX9TyOiLqzQ3dSlK/RDavkr9V9a",
      "include_colab_link": true
    },
    "kernelspec": {
      "name": "python3",
      "display_name": "Python 3"
    },
    "language_info": {
      "name": "python"
    }
  },
  "cells": [
    {
      "cell_type": "markdown",
      "metadata": {
        "id": "view-in-github",
        "colab_type": "text"
      },
      "source": [
        "<a href=\"https://colab.research.google.com/github/stanislawcronberg/Numpy-Practice-Projects/blob/main/Simplified_SVM_with_Numpy.ipynb\" target=\"_parent\"><img src=\"https://colab.research.google.com/assets/colab-badge.svg\" alt=\"Open In Colab\"/></a>"
      ]
    },
    {
      "cell_type": "markdown",
      "metadata": {
        "id": "l9gbkwYx7fjk"
      },
      "source": [
        "## Implementing a simplified SVM with Numpy from scratch\n",
        "\n",
        "1. Problem statement\n",
        "2. Point selection algorithm\n",
        "3. 2D Case\n",
        "    - Example 2D data\n",
        "    - Criteria for support vectors in 2D\n",
        "    - 2D Implementation\n",
        "4. 3D Case\n",
        "    - Example 3D data\n",
        "    - Criteria for support vectors in 3D \n",
        "    - 3D Implementation"
      ]
    },
    {
      "cell_type": "markdown",
      "metadata": {
        "id": "9Rtm5HKBWgbm"
      },
      "source": [
        "### 1. Problem Statement\n",
        "\n",
        "We first build a Maximal Margin Classifier. The conditions are:\n",
        "- Minimize $\\frac{1}{2}w^Tw$\n",
        "- Subject to $(w^Tx^{(i)} + b) = 1$ for $i = 1, ..., \\text{n_dimensions + 1}$"
      ]
    },
    {
      "cell_type": "markdown",
      "metadata": {
        "id": "nw7rTSJFBK-X"
      },
      "source": [
        "### Sample Dataset for 2D Case"
      ]
    },
    {
      "cell_type": "markdown",
      "metadata": {
        "id": "CT3-ITaKBtg_"
      },
      "source": [
        "$X$ contains our matrix of points, whereas $y$ contains a vector of their corresponding label.\n",
        "- Where $y \\in \\{-1, 1\\}$ and $x \\in R^2$"
      ]
    },
    {
      "cell_type": "code",
      "metadata": {
        "id": "7GWjCSuZgnVD"
      },
      "source": [
        "import numpy as np\n",
        "import matplotlib.pyplot as plt\n",
        "%matplotlib inline\n",
        "import seaborn as sns\n",
        "sns.set_theme()"
      ],
      "execution_count": 34,
      "outputs": []
    },
    {
      "cell_type": "code",
      "metadata": {
        "colab": {
          "base_uri": "https://localhost:8080/",
          "height": 301
        },
        "id": "cJ7iX1Wn_B0k",
        "outputId": "cfb9dda1-3895-4d0b-f370-a5be9ec508d5"
      },
      "source": [
        "from sklearn.datasets import make_blobs\n",
        "\n",
        "# Our sample cluster data\n",
        "X, y = make_blobs(n_features=2, centers=2, random_state=42, n_samples=50)\n",
        "\n",
        "# Changing negative y class from 0 to -1\n",
        "y[y == 0] = -1\n",
        "\n",
        "plt.scatter(X[:, 0], X[:, 1],marker='o', c=y,\n",
        "            s=25, edgecolor='k')\n",
        "plt.title('Two Clusters')\n",
        "plt.xlabel('Feature 1')\n",
        "plt.ylabel('Feature 2')\n",
        "plt.show()"
      ],
      "execution_count": 2,
      "outputs": [
        {
          "output_type": "display_data",
          "data": {
            "image/png": "[encoded data removed]",
            "text/plain": [
              "<Figure size 432x288 with 1 Axes>"
            ]
          },
          "metadata": {
            "needs_background": "light"
          }
        }
      ]
    },
    {
      "cell_type": "markdown",
      "metadata": {
        "id": "ZijuEh_DJTuD"
      },
      "source": [
        "### Point Selection Algorithm\n",
        "- We make use of the `combinations()` function from the `itertools` package in order to generate all possible groups of points we want to consider\n",
        "- Works for both the 2D and the 3D case of the algorithm we want to implement "
      ]
    },
    {
      "cell_type": "code",
      "metadata": {
        "id": "aP-8gYDMJ621"
      },
      "source": [
        "from itertools import combinations\n",
        "\n",
        "def get_combinations(X):\n",
        "    \"\"\"\n",
        "    X -> (n_inputs, n_dimensions) numpy.ndarray\n",
        "    Returns a numpy.darray of possible combinations of indices\n",
        "    \"\"\"\n",
        "\n",
        "    # How many points we have to choose from\n",
        "    n_points = X.shape[0]\n",
        "\n",
        "    # How large we want our groups of candidate support vectors to be\n",
        "    # (n_dimensions + 1)\n",
        "    group_size = X.shape[1] + 1\n",
        "\n",
        "    return np.array(list(combinations(range(n_points), group_size)))"
      ],
      "execution_count": 3,
      "outputs": []
    },
    {
      "cell_type": "markdown",
      "metadata": {
        "id": "BiZfcPvxXltL"
      },
      "source": [
        "For any group of three support vectors that we select we require that:\n",
        "1. They do not all belong to the same class\n",
        "2. They do not lie on the same line\n"
      ]
    },
    {
      "cell_type": "code",
      "metadata": {
        "id": "5-rWkOsWD8ZG"
      },
      "source": [
        "def get_vector_from_points(a, b):\n",
        "    \"\"\"\n",
        "    Returns the vector going from point a -> b\n",
        "    \"\"\"\n",
        "    return b-a"
      ],
      "execution_count": 4,
      "outputs": []
    },
    {
      "cell_type": "code",
      "metadata": {
        "id": "dR__p7fWWLP0"
      },
      "source": [
        "def are_supports_legal_2d(index_list, X, y) -> bool:\n",
        "    \"\"\"\n",
        "    Checks if the points are not all from the same class\n",
        "    Ensure that the support vectors are not collinear\n",
        "\n",
        "    (All inputs are of type numpy.ndarray)\n",
        "    index_list -> list of our indices to our points (1, 3)\n",
        "    X          -> coordinates of our points (num_points, 2)\n",
        "    y          -> classes of our points (num_points, 1)\n",
        "    \"\"\"\n",
        "    # Get our list of classes\n",
        "    classes = y[index_list]\n",
        "\n",
        "    # Check if elements are from the same class\n",
        "    if np.unique(classes).size == 1:\n",
        "        return False\n",
        "\n",
        "    # Get points\n",
        "    points = X[index_list, :]\n",
        "\n",
        "    # Create two vectors from our points\n",
        "    v1 = get_vector_from_points(points[0], points[1])\n",
        "    v2 = get_vector_from_points(points[1], points[2])\n",
        "\n",
        "    # Test if the two vectors are linearly independent\n",
        "    if np.linalg.det(np.vstack([v1, v2])) == 0:\n",
        "        return False\n",
        "\n",
        "    return True"
      ],
      "execution_count": 5,
      "outputs": []
    },
    {
      "cell_type": "code",
      "metadata": {
        "id": "iWWhstUtbcR-"
      },
      "source": [
        "x1 = np.array([1, 1])\n",
        "x2 = np.array([2, 2])\n",
        "x3 = np.array([3, 3])"
      ],
      "execution_count": null,
      "outputs": []
    },
    {
      "cell_type": "code",
      "metadata": {
        "colab": {
          "base_uri": "https://localhost:8080/"
        },
        "id": "aAKAubaTEkBe",
        "outputId": "553c164e-eeb8-4b35-ff11-1cec12a6b301"
      },
      "source": [
        "index = [0, 1, 2]\n",
        "b = np.vstack([x1, x2, x3, x2, x3, x1])\n",
        "b[index, :][2]"
      ],
      "execution_count": null,
      "outputs": [
        {
          "output_type": "execute_result",
          "data": {
            "text/plain": [
              "array([3, 3])"
            ]
          },
          "metadata": {},
          "execution_count": 16
        }
      ]
    },
    {
      "cell_type": "code",
      "metadata": {
        "colab": {
          "base_uri": "https://localhost:8080/"
        },
        "id": "-tnCuCeIYn3w",
        "outputId": "b12854d4-5c3f-47d4-80d7-5a4efc3b0ba0"
      },
      "source": [
        "x = [(1, 2, 3), (0, 5, 6), (2, 4, 6), (6, 4, 3)]\n",
        "x = np.array(x)\n",
        "x"
      ],
      "execution_count": null,
      "outputs": [
        {
          "output_type": "execute_result",
          "data": {
            "text/plain": [
              "array([[1, 2, 3],\n",
              "       [0, 5, 6],\n",
              "       [2, 4, 6],\n",
              "       [6, 4, 3]])"
            ]
          },
          "metadata": {},
          "execution_count": 18
        }
      ]
    },
    {
      "cell_type": "code",
      "metadata": {
        "colab": {
          "base_uri": "https://localhost:8080/"
        },
        "id": "aEU7j9WDY7ef",
        "outputId": "953f4896-24c3-49c5-81e4-923cc30bb942"
      },
      "source": [
        "np.argmin(x, axis=0)[2]"
      ],
      "execution_count": null,
      "outputs": [
        {
          "output_type": "execute_result",
          "data": {
            "text/plain": [
              "0"
            ]
          },
          "metadata": {},
          "execution_count": 19
        }
      ]
    },
    {
      "cell_type": "code",
      "metadata": {
        "colab": {
          "base_uri": "https://localhost:8080/"
        },
        "id": "BsOI0HZbwg4s",
        "outputId": "bc6c6af4-fd0a-4b59-dafd-862766998fcb"
      },
      "source": [
        "a = [1, 2, 3]\n",
        "np.dot(a, a)"
      ],
      "execution_count": 11,
      "outputs": [
        {
          "output_type": "execute_result",
          "data": {
            "text/plain": [
              "14"
            ]
          },
          "metadata": {},
          "execution_count": 11
        }
      ]
    },
    {
      "cell_type": "code",
      "metadata": {
        "id": "Kef6UIxUeIgv"
      },
      "source": [
        "class SVM_2d():\n",
        "    def __init__(self, weights, b):\n",
        "        self.weights = weights\n",
        "        self.b = b\n",
        "\n",
        "    def predict(self, x):\n",
        "        class_ =  1 if (np.dot(self.weights, x) + self.b > 0) else -1\n",
        "        return class_"
      ],
      "execution_count": 42,
      "outputs": []
    },
    {
      "cell_type": "code",
      "metadata": {
        "id": "35mkD-WbZsVu"
      },
      "source": [
        "def calculate_svm_2d(indices, X, y):\n",
        "    # w1 * X[indices[0]][0] + w2*X[indices[0]][1] + b = y[indices[0]]\n",
        "    # w1 * X[indices[1]][0] + w2*X[indices[1]][1] + b = y[indices[1]]\n",
        "    # w1 * X[indices[2]][0] + w2*X[indices[2]][1] + b = y[indices[2]]\n",
        "    \n",
        "    # Getting our points and their classes for current set \n",
        "    # of indices\n",
        "    y_idx = y[indices]\n",
        "    X_idx = X[indices]\n",
        "\n",
        "    # Creating our matrix to solve the system of equations\n",
        "    bias_col = np.ones(3).reshape(3, 1)\n",
        "    A = np.concatenate([X[indices], bias_col], axis=1)\n",
        "\n",
        "    # Solving the system of equations\n",
        "    # A_inv = np.linalg.inv(A)\n",
        "    w_b_mat = np.linalg.solve(A, y_idx)\n",
        "\n",
        "    # Getting our coefficients \n",
        "    # w1 = w_b_mat[0]\n",
        "    # w2 = w_b_mat[1]\n",
        "    weights = w_b_mat[0:2]\n",
        "    b = w_b_mat[2]\n",
        "\n",
        "    # Create svm\n",
        "    svm = SVM_2d(weights, b)\n",
        "\n",
        "    # Check if svm is valid\n",
        "    for sample, target in zip(X, y):\n",
        "        if svm.predict(sample) != target:\n",
        "            return None, None\n",
        "\n",
        "\n",
        "    return weights, b"
      ],
      "execution_count": 43,
      "outputs": []
    },
    {
      "cell_type": "code",
      "metadata": {
        "id": "Gwhect2ZZ7P3"
      },
      "source": [
        "def calculate_error(w, b, X, y):\n",
        "    \"\"\"\n",
        "    Returns the value we are trying to minimize\n",
        "    \"\"\"\n",
        "    return np.linalg.norm(w)"
      ],
      "execution_count": 44,
      "outputs": []
    },
    {
      "cell_type": "code",
      "metadata": {
        "id": "DcgZPgHa_e9X"
      },
      "source": [
        "from tqdm import tqdm"
      ],
      "execution_count": 39,
      "outputs": []
    },
    {
      "cell_type": "code",
      "metadata": {
        "id": "oLtmTUDsHppx"
      },
      "source": [
        "def find_best_svm_2d(X, y) -> tuple:\n",
        "    \"\"\"\n",
        "    Takes our points in 2d and finds the best SVM with\n",
        "    a maximal margin classifier\n",
        "\n",
        "    X : matrix of our points     - ndarray (n_points, n_dim)\n",
        "    y : vector with class labels - ndarray (n_points,)\n",
        "    \"\"\"\n",
        "    # All possible index combinations (not all legal)\n",
        "    index_choices = get_combinations(X)\n",
        "\n",
        "    # List to store our history of errors\n",
        "    # - Needed to later find which combination\n",
        "    #   of support vectors minimized the error\n",
        "    wb_error = []\n",
        "\n",
        "    # Checking each possible group of support vectors\n",
        "    for index_group in tqdm(index_choices):\n",
        "\n",
        "        # Checking if not all supports are the same label\n",
        "        #   or if they are collinear. Then we are allowed \n",
        "        #   to skip this group if that's the case\n",
        "        if not are_supports_legal_2d(index_group, X, y):\n",
        "            continue\n",
        "        \n",
        "        # If our supports are legal then we attempt to \n",
        "        #   calculate w and b\n",
        "        w, b = calculate_svm_2d(index_group, X, y)\n",
        "\n",
        "        # It's possible that the supports do not find \n",
        "        #   an SVM and in that case we continue to look\n",
        "        #   at the next group of supports\n",
        "        if (w is None or b is None):\n",
        "            continue\n",
        "\n",
        "        # If we managed to find a SVM that works, we \n",
        "        #   calculate the error\n",
        "        error = calculate_error(w, b, X, y)\n",
        "\n",
        "        # We store the error for this SVM\n",
        "        #   Note that we need to unpack 'w' as it is a tuple\n",
        "        wb_error.append([*w, b, error])\n",
        "\n",
        "    # Converting error to a ndarray to get access to the \n",
        "    #   argmin function\n",
        "    wb_error = np.array(wb_error)\n",
        "\n",
        "    # Finding the minimal entry in the last column of our\n",
        "    #   error array.     \n",
        "    best_index_group = np.argmin(wb_error, axis=0)[-1]\n",
        "    best_svm = wb_error[best_index_group]\n",
        "\n",
        "    weights = best_svm[0:2]\n",
        "    b, error = best_svm[2], best_svm[3]\n",
        "\n",
        "    return SVM_2d(weights, b), error"
      ],
      "execution_count": 45,
      "outputs": []
    },
    {
      "cell_type": "code",
      "metadata": {
        "colab": {
          "base_uri": "https://localhost:8080/"
        },
        "id": "Wi4rapI0aerm",
        "outputId": "27a0eb66-9b40-420e-c915-ae2967b90e8a"
      },
      "source": [
        "svm, error = find_best_svm_2d(X, y)\n",
        "print()\n",
        "print(\"Error: \", round(error, 2))\n",
        "print(\"W1:\", round(svm.weights[0], 2), \"\\nW2:\", round(svm.weights[1], 2), \"\\nb:\", round(svm.b, 2))"
      ],
      "execution_count": 46,
      "outputs": [
        {
          "output_type": "stream",
          "name": "stderr",
          "text": [
            "100%|██████████| 19600/19600 [00:03<00:00, 6508.15it/s]"
          ]
        },
        {
          "output_type": "stream",
          "name": "stdout",
          "text": [
            "\n",
            "Error:  0.15\n",
            "W1: 0.11 \n",
            "W2: -0.1 \n",
            "b: 0.48\n"
          ]
        },
        {
          "output_type": "stream",
          "name": "stderr",
          "text": [
            "\n"
          ]
        }
      ]
    },
    {
      "cell_type": "markdown",
      "metadata": {
        "id": "pjeaISmLvzbA"
      },
      "source": [
        "### 3D Maximal Margin Classier"
      ]
    },
    {
      "cell_type": "code",
      "metadata": {
        "colab": {
          "base_uri": "https://localhost:8080/",
          "height": 319
        },
        "id": "bYzI0GAxBigQ",
        "outputId": "3ca2831b-0664-4dd1-b69a-c3dbd10b2c23"
      },
      "source": [
        "from mpl_toolkits.mplot3d import Axes3D\n",
        "import matplotlib.colors\n",
        "\n",
        "# Our sample cluster data\n",
        "n_samples = 50\n",
        "\n",
        "# Generating 2D data which will have to receive an extra dimension of data\n",
        "X, y = make_blobs(n_features=2, centers=2, random_state=42, n_samples=n_samples)\n",
        "\n",
        "# Reshaping y so it works with np.concatenate()\n",
        "y = y.reshape(50, 1)\n",
        "\n",
        "# Changing negative y class from 0 to -1\n",
        "y[y == 0] = -1\n",
        "\n",
        "# Creating our extra dimension of data\n",
        "new_val = 10\n",
        "new_col_top = np.ones(n_samples//2) * new_val\n",
        "new_col_bot = np.ones(n_samples//2) * new_val * (-1)\n",
        "new_col = np.concatenate([new_col_top, new_col_bot], axis=0).reshape(n_samples,1)\n",
        "\n",
        "# Inserting our new dimension of data in place of the labels column, and\n",
        "# expanding the matrix of all data\n",
        "mat = np.concatenate([X, y], axis=1)\n",
        "mat = mat[mat[:,2].argsort()]\n",
        "mat3 = np.concatenate([mat[:,:2], new_col, mat[:, 2].reshape(n_samples, 1)], axis=1)\n",
        "\n",
        "# Plotting data\n",
        "fig = plt.figure()\n",
        "ax = Axes3D(fig)\n",
        "half = n_samples // 2\n",
        "ax.scatter(mat3[:half,0], mat3[:half,1], mat3[:half,2])\n",
        "ax.scatter(mat3[-half:,0], mat3[-half:,1], mat3[-half:,2])\n",
        "plt.title('Clusters in 3D')\n",
        "\n",
        "plt.show()"
      ],
      "execution_count": 120,
      "outputs": [
        {
          "output_type": "display_data",
          "data": {
            "image/png": "[encoded data removed]",
            "text/plain": [
              "<Figure size 432x288 with 1 Axes>"
            ]
          },
          "metadata": {}
        }
      ]
    },
    {
      "cell_type": "code",
      "metadata": {
        "id": "OL4cT72FLJdL"
      },
      "source": [
        "# From our data generation we now have that\n",
        "X = mat3[:, :3]\n",
        "y = mat3[:, 3]"
      ],
      "execution_count": 121,
      "outputs": []
    },
    {
      "cell_type": "code",
      "metadata": {
        "id": "MgdGZYVn8RYO"
      },
      "source": [
        "def are_supports_legal_3d(index_list, X, y) -> bool:\n",
        "    \"\"\"\n",
        "    Checks if the points are not all from the same class\n",
        "    Ensure that the support vectors are not collinear\n",
        "\n",
        "    (All inputs are of type numpy.ndarray)\n",
        "    index_list -> list of our indices to our points (1, 4)\n",
        "    X          -> coordinates of our points (num_points, 3)\n",
        "    y          -> classes of our points (num_points, 1)\n",
        "    \"\"\"\n",
        "    # Get our list of classes\n",
        "    classes = y[index_list]\n",
        "\n",
        "    # Check if elements are from the same class\n",
        "    if np.unique(classes).size == 1:\n",
        "        return False\n",
        "\n",
        "    # Get points\n",
        "    points = X[index_list, :]\n",
        "\n",
        "    # Create two vectors from our points\n",
        "    v1 = get_vector_from_points(points[0], points[1])\n",
        "    v2 = get_vector_from_points(points[1], points[2])\n",
        "    v3 = get_vector_from_points(points[2], points[3])\n",
        "\n",
        "    # Test if the two vectors are linearly independent\n",
        "    if np.linalg.det(np.vstack([v1, v2, v3])) == 0:\n",
        "        return False\n",
        "\n",
        "    return True"
      ],
      "execution_count": 122,
      "outputs": []
    },
    {
      "cell_type": "code",
      "metadata": {
        "id": "u6_mkWAOv3Jh"
      },
      "source": [
        "class SVM_3d():\n",
        "    def __init__(self, weights, b):\n",
        "        self.weights = weights\n",
        "        self.b = b\n",
        "\n",
        "    def predict(self, x):\n",
        "        class_ = 1 if (np.dot(self.weights, x) + self.b > 0) else -1\n",
        "        return class_"
      ],
      "execution_count": 123,
      "outputs": []
    },
    {
      "cell_type": "code",
      "metadata": {
        "id": "-gzNlK1kAiWn"
      },
      "source": [
        "def calculate_svm_3d(indices, X, y):\n",
        "    \n",
        "    # Getting our points and their classes for current set \n",
        "    # of indices\n",
        "    X_idx = X[indices]\n",
        "    y_idx = y[indices]\n",
        "\n",
        "    # Creating our matrix to solve the system of equations\n",
        "    bias_col = np.ones(4).reshape(4, 1)\n",
        "    A = np.concatenate([X[indices], bias_col], axis=1)\n",
        "\n",
        "    # Solving the system of equations\n",
        "    w_b_mat = np.linalg.solve(A, y_idx)\n",
        "\n",
        "    # Getting our coefficients \n",
        "    weights = w_b_mat[0:3]\n",
        "    b = w_b_mat[3]\n",
        "\n",
        "    # Create svm\n",
        "    svm = SVM_3d(weights, b)\n",
        "\n",
        "    # Check if svm is valid\n",
        "    for sample, target in zip(X, y):\n",
        "        if svm.predict(sample) != target:\n",
        "            return None, None\n",
        "\n",
        "\n",
        "    return weights, b"
      ],
      "execution_count": 134,
      "outputs": []
    },
    {
      "cell_type": "code",
      "metadata": {
        "id": "F2Et1PybLvSh"
      },
      "source": [
        "def find_best_svm_3d(X, y) -> tuple:\n",
        "    \"\"\"\n",
        "    Takes our points in 2d and finds the best SVM with\n",
        "    a maximal margin classifier\n",
        "\n",
        "    X : matrix of our points     - ndarray (n_points, n_dim)\n",
        "    y : vector with class labels - ndarray (n_points,)\n",
        "    \"\"\"\n",
        "    # All possible index combinations (not all legal)\n",
        "    index_choices = get_combinations(X)\n",
        "\n",
        "    # List to store our history of errors\n",
        "    # - Needed to later find which combination\n",
        "    #   of support vectors minimized the error\n",
        "    wb_error = []\n",
        "\n",
        "    # Checking each possible group of support vectors\n",
        "    for index_group in tqdm(index_choices):\n",
        "\n",
        "        # Checking if not all supports are the same label\n",
        "        #   or if they are collinear. Then we are allowed \n",
        "        #   to skip this group if that's the case\n",
        "        if not are_supports_legal_3d(index_group, X, y):\n",
        "            continue\n",
        "        \n",
        "        # If our supports are legal then we attempt to \n",
        "        #   calculate w and b\n",
        "        w, b = calculate_svm_3d(index_group, X, y)\n",
        "\n",
        "        # It's possible that the supports do not find \n",
        "        #   an SVM and in that case we continue to look\n",
        "        #   at the next group of supports\n",
        "        if (w is None or b is None):\n",
        "            continue\n",
        "\n",
        "        # If we managed to find a SVM that works, we \n",
        "        #   calculate the error\n",
        "        error = calculate_error(w, b, X, y)\n",
        "\n",
        "        # We store the error for this SVM\n",
        "        #   Note that we need to unpack 'w' as it is a tuple\n",
        "        wb_error.append([*w, b, error])\n",
        "\n",
        "    # Converting error to a ndarray to get access to the \n",
        "    #   argmin function\n",
        "    wb_error = np.array(wb_error)\n",
        "\n",
        "    # Finding the minimal entry in the last column of our\n",
        "    #   error array.     \n",
        "    best_index_group = np.argmin(wb_error, axis=0)[-1]\n",
        "    best_svm = wb_error[best_index_group]\n",
        "\n",
        "    weights = best_svm[0:3]\n",
        "    b, error = best_svm[3], best_svm[4]\n",
        "\n",
        "    return SVM_3d(weights, b), error"
      ],
      "execution_count": 125,
      "outputs": []
    },
    {
      "cell_type": "code",
      "metadata": {
        "colab": {
          "base_uri": "https://localhost:8080/"
        },
        "id": "AR01_d8rL_Ek",
        "outputId": "ffecd856-0650-42c7-ca56-e2a002e1fb76"
      },
      "source": [
        "svm, error = find_best_svm_3d(X, y)\n",
        "print()\n",
        "print(\"Error: \", round(error, 2))\n",
        "print(\"W1:\", round(svm.weights[0], 4), \"\\nW2:\", round(svm.weights[1], 4), \"\\nW3:\", round(svm.weights[2], 4))\n",
        "print(\"b:\", round(svm.b, 4))"
      ],
      "execution_count": 126,
      "outputs": [
        {
          "output_type": "stream",
          "name": "stderr",
          "text": [
            "100%|██████████| 230300/230300 [00:47<00:00, 4835.12it/s] \n"
          ]
        },
        {
          "output_type": "stream",
          "name": "stdout",
          "text": [
            "\n",
            "Error:  0.1\n",
            "W1: -0.0 \n",
            "W2: -0.0 \n",
            "W3: -0.1\n",
            "b: 0.0\n"
          ]
        }
      ]
    },
    {
      "cell_type": "code",
      "metadata": {
        "colab": {
          "base_uri": "https://localhost:8080/"
        },
        "id": "SLv9yygeNbSV",
        "outputId": "d5d1ed35-93f7-4065-efa7-fe3382638520"
      },
      "source": [
        "for i in tqdm(range(n_samples)):\n",
        "    if svm.predict(X[i]) != y[i]:\n",
        "        print(f'Observation {i} not not correctly predicted')"
      ],
      "execution_count": 133,
      "outputs": [
        {
          "output_type": "stream",
          "name": "stderr",
          "text": [
            "100%|██████████| 50/50 [00:00<00:00, 16827.02it/s]\n"
          ]
        }
      ]
    }
  ]
}
