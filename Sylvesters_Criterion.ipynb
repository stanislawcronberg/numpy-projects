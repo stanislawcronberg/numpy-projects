{
  "nbformat": 4,
  "nbformat_minor": 0,
  "metadata": {
    "colab": {
      "name": "Sylvesters Criterion.ipynb",
      "provenance": [],
      "include_colab_link": true
    },
    "kernelspec": {
      "name": "python3",
      "display_name": "Python 3"
    },
    "language_info": {
      "name": "python"
    }
  },
  "cells": [
    {
      "cell_type": "markdown",
      "metadata": {
        "id": "view-in-github",
        "colab_type": "text"
      },
      "source": [
        "<a href=\"https://colab.research.google.com/github/stanislawcronberg/Numpy-Practice-Projects/blob/main/Sylvesters_Criterion.ipynb\" target=\"_parent\"><img src=\"https://colab.research.google.com/assets/colab-badge.svg\" alt=\"Open In Colab\"/></a>"
      ]
    },
    {
      "cell_type": "markdown",
      "metadata": {
        "id": "AzRMXJBcYeWO"
      },
      "source": [
        "# Sylvester's Criterion Algorithm"
      ]
    },
    {
      "cell_type": "markdown",
      "metadata": {
        "id": "bJl3_mhWYmCm"
      },
      "source": [
        "- This criterion helps us determine whether a matrix is positive definite. \n",
        "- A matrix is positive definite is all over its eigenvalues are greater than 0\n",
        "- If all the left upper submatrices have positive determinants then the matrix is definite positive."
      ]
    },
    {
      "cell_type": "code",
      "metadata": {
        "id": "8O3rSg0CYZy0"
      },
      "source": [
        "import numpy as np"
      ],
      "execution_count": null,
      "outputs": []
    },
    {
      "cell_type": "code",
      "metadata": {
        "colab": {
          "base_uri": "https://localhost:8080/"
        },
        "id": "kPh70hYLYxcj",
        "outputId": "ddcd1cc9-3f18-466b-ba6d-18dd347e5294"
      },
      "source": [
        "# Example of a positive definite matrix \n",
        "A = np.array([[2, -1, 0],\n",
        "              [-1, 2, -1],\n",
        "              [0, -1, 2]])\n",
        "A"
      ],
      "execution_count": null,
      "outputs": [
        {
          "output_type": "execute_result",
          "data": {
            "text/plain": [
              "array([[ 2, -1,  0],\n",
              "       [-1,  2, -1],\n",
              "       [ 0, -1,  2]])"
            ]
          },
          "metadata": {},
          "execution_count": 3
        }
      ]
    },
    {
      "cell_type": "code",
      "metadata": {
        "colab": {
          "base_uri": "https://localhost:8080/"
        },
        "id": "tnDHjXstdVhy",
        "outputId": "e256e6fa-d0a6-4d0e-cb49-d7d1f72e0cfd"
      },
      "source": [
        "print(np.linalg.det(A[:1, :1]))\n",
        "print(int(np.linalg.det(A[:2, :2]))+1)\n",
        "print(np.linalg.det(A))"
      ],
      "execution_count": null,
      "outputs": [
        {
          "output_type": "stream",
          "name": "stdout",
          "text": [
            "2.0\n",
            "3\n",
            "4.0\n"
          ]
        }
      ]
    },
    {
      "cell_type": "code",
      "metadata": {
        "id": "zfiJ5cWsZEMi"
      },
      "source": [
        "def sylvesters_criterion_pos(A) -> bool:\n",
        "    \"\"\"\n",
        "    Tells us whether the square matrix A satisfies Sylvester's Criterion\n",
        "    \"\"\"\n",
        "\n",
        "    # Getting size of matrix\n",
        "    n_rows, n_cols = A.shape\n",
        "\n",
        "    # Check matrix is square\n",
        "    if n_rows != n_cols:\n",
        "        raise ValueError(\"Matrix must be square\")\n",
        "\n",
        "    # If any determinant of any upper left hand submatrix\n",
        "    # is non positive the criterion is not satisfied\n",
        "    for i in range(n_rows):\n",
        "        if np.linalg.det(A[:i, :i]) <= 0:\n",
        "            return False\n",
        "    \n",
        "    return True"
      ],
      "execution_count": null,
      "outputs": []
    },
    {
      "cell_type": "code",
      "metadata": {
        "colab": {
          "base_uri": "https://localhost:8080/"
        },
        "id": "MjYErJoCeRUM",
        "outputId": "a91527f4-da57-4115-811b-b2d799da2abb"
      },
      "source": [
        "sylvesters_criterion(A)"
      ],
      "execution_count": null,
      "outputs": [
        {
          "output_type": "execute_result",
          "data": {
            "text/plain": [
              "True"
            ]
          },
          "metadata": {},
          "execution_count": 14
        }
      ]
    },
    {
      "cell_type": "code",
      "metadata": {
        "id": "w5g-uJS6eS-g"
      },
      "source": [
        "def sylvesters_criterion_neg(A) -> bool:\n",
        "    \"\"\"\n",
        "    Tells us whether the square matrix A is negative definite\n",
        "    \"\"\"\n",
        "\n",
        "    # Getting size of matrix\n",
        "    n_rows, n_cols = A.shape\n",
        "\n",
        "    # Check matrix is square\n",
        "    if n_rows != n_cols:\n",
        "        raise ValueError(\"Matrix must be square\")\n",
        "\n",
        "    # If any determinant of any upper left hand submatrix\n",
        "    # is non positive the criterion is not satisfied\n",
        "    for i in range(n_rows):\n",
        "        if np.linalg.det(A[:i, :i])*((-1)**i) >= 0:\n",
        "            return False\n",
        "    \n",
        "    return True"
      ],
      "execution_count": null,
      "outputs": []
    }
  ]
}